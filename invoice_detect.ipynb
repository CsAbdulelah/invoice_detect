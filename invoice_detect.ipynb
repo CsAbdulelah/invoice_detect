{
 "cells": [
  {
   "cell_type": "code",
   "execution_count": 10,
   "metadata": {},
   "outputs": [],
   "source": [
    "# project pipline\n",
    "### 1- convert image into gray scale \n",
    "### 2- eadge detection\n",
    "### 3- find contours\n",
    "### 4- apply ocr for each contour"
   ]
  },
  {
   "cell_type": "code",
   "execution_count": 1,
   "metadata": {},
   "outputs": [],
   "source": [
    "import cv2 \n",
    "import pytesseract "
   ]
  },
  {
   "cell_type": "code",
   "execution_count": 2,
   "metadata": {},
   "outputs": [],
   "source": [
    "# Mention the installed location of Tesseract-OCR in your system \n",
    "pytesseract.pytesseract.tesseract_cmd ='C:\\\\Program Files (x86)\\\\Tesseract-OCR\\\\tesseract.exe'"
   ]
  },
  {
   "cell_type": "code",
   "execution_count": 30,
   "metadata": {},
   "outputs": [],
   "source": [
    "# Read image from which text needs to be extracted \n",
    "img = cv2.imread(\"invc.png\") "
   ]
  },
  {
   "cell_type": "code",
   "execution_count": 31,
   "metadata": {},
   "outputs": [],
   "source": [
    "# Convert the image to gray scale \n",
    "gray = cv2.cvtColor(img, cv2.COLOR_BGR2GRAY) "
   ]
  },
  {
   "cell_type": "code",
   "execution_count": 32,
   "metadata": {},
   "outputs": [],
   "source": [
    "# blur = cv2.medianBlur(gray,5)\n",
    "\n",
    "edges = cv2.Canny(image=gray, threshold1=127 , threshold2=200)"
   ]
  },
  {
   "cell_type": "code",
   "execution_count": 33,
   "metadata": {},
   "outputs": [],
   "source": [
    "cv2.imshow('img',edges)\n",
    "\n",
    "cv2.waitKey(0)\n",
    "cv2.destroyAllWindows()"
   ]
  },
  {
   "cell_type": "code",
   "execution_count": 34,
   "metadata": {},
   "outputs": [],
   "source": [
    "# Specify structure shape and kernel size.  \n",
    "# Kernel size increases or decreases the area  \n",
    "# of the rectangle to be detected. \n",
    "rect_kernel = cv2.getStructuringElement(cv2.MORPH_RECT, (10, 10)) \n",
    "  \n",
    "# Appplying dilation on the threshold image \n",
    "dilation = cv2.dilate(edges, rect_kernel, iterations = 1) \n",
    "  "
   ]
  },
  {
   "cell_type": "code",
   "execution_count": 35,
   "metadata": {},
   "outputs": [],
   "source": [
    "# Finding contours \n",
    "image, contours, hierarchy = cv2.findContours(dilation, cv2.RETR_EXTERNAL,  \n",
    "                                                 cv2.CHAIN_APPROX_NONE) "
   ]
  },
  {
   "cell_type": "code",
   "execution_count": 36,
   "metadata": {},
   "outputs": [],
   "source": [
    "# Creating a copy of image \n",
    "im2 = img.copy() "
   ]
  },
  {
   "cell_type": "code",
   "execution_count": 37,
   "metadata": {},
   "outputs": [],
   "source": [
    "# A text file is created and flushed \n",
    "file = open(\"recognized2.txt\", \"w+\") \n",
    "file.write(\"\") \n",
    "file.close()   "
   ]
  },
  {
   "cell_type": "code",
   "execution_count": null,
   "metadata": {},
   "outputs": [],
   "source": []
  },
  {
   "cell_type": "code",
   "execution_count": 38,
   "metadata": {},
   "outputs": [],
   "source": [
    "\n",
    "# Looping through the identified contours \n",
    "# Then rectangular part is cropped and passed on \n",
    "# to pytesseract for extracting text from it \n",
    "# Extracted text is then written into the text file \n",
    "for cnt in contours: \n",
    "    x, y, w, h = cv2.boundingRect(cnt) \n",
    "    \n",
    "    # Drawing a rectangle on copied image \n",
    "    rect = cv2.rectangle(im2, (x, y), (x + w, y + h), (0, 255, 0), 2) \n",
    "      \n",
    "    # Cropping the text block for giving input to OCR \n",
    "    cropped = im2[y:y + h, x:x + w] \n",
    "      \n",
    "    # Open the file in append mode \n",
    "    file = open(\"recognized2.txt\", \"a\") \n",
    "      \n",
    "    # Apply OCR on the cropped image \n",
    "    text = pytesseract.image_to_string(cropped) \n",
    "      \n",
    "    # Appending the text into file \n",
    "    file.write(text) \n",
    "    file.write(\"\\n\") \n",
    "      \n",
    "    # Close the file \n",
    "    file.close "
   ]
  },
  {
   "cell_type": "code",
   "execution_count": 39,
   "metadata": {},
   "outputs": [],
   "source": [
    "cv2.imshow('img',im2)\n",
    "\n",
    "cv2.waitKey(0)\n",
    "cv2.destroyAllWindows()"
   ]
  },
  {
   "cell_type": "code",
   "execution_count": null,
   "metadata": {},
   "outputs": [],
   "source": []
  },
  {
   "cell_type": "code",
   "execution_count": null,
   "metadata": {},
   "outputs": [],
   "source": []
  }
 ],
 "metadata": {
  "kernelspec": {
   "display_name": "Python 3",
   "language": "python",
   "name": "python3"
  },
  "language_info": {
   "codemirror_mode": {
    "name": "ipython",
    "version": 3
   },
   "file_extension": ".py",
   "mimetype": "text/x-python",
   "name": "python",
   "nbconvert_exporter": "python",
   "pygments_lexer": "ipython3",
   "version": "3.7.7"
  }
 },
 "nbformat": 4,
 "nbformat_minor": 4
}
